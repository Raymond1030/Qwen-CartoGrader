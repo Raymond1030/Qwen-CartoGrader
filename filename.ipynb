{
 "cells": [
  {
   "cell_type": "code",
   "metadata": {},
   "source": [
    "import os\n",
    "import re\n",
    "\n",
    "# 设置目标文件夹路径\n",
    "folder_path = './地图审查样本库'  # 请替换为你的文件夹路径\n",
    "\n",
    "# 解析函数\n",
    "def parse_filename(file_name):\n",
    "    # 正则表达式匹配学号（假设学号是前面一串数字）\n",
    "    student_number_match = re.match(r\"(\\d{8,10})\", file_name)\n",
    "    student_number = student_number_match.group(1) if student_number_match else \"未知学号\"\n",
    "    \n",
    "    # 匹配姓名（假设姓名通常出现在学号后面）\n",
    "    name_match = re.search(r\"([\\u4e00-\\u9fa5]+)\", file_name)\n",
    "    name = name_match.group(1) if name_match else \"未知姓名\"\n",
    "    \n",
    "    return f\"{student_number}\"\n",
    "\n",
    "# 获取文件夹中的所有文件\n",
    "for filename in os.listdir(folder_path):\n",
    "    file_path = os.path.join(folder_path, filename)\n",
    "    \n",
    "    # 如果是文件（而不是文件夹）\n",
    "    if os.path.isfile(file_path):\n",
    "        # 获取文件名并进行解析\n",
    "        new_name = parse_filename(filename)\n",
    "        \n",
    "        # 获取文件扩展名\n",
    "        file_extension = os.path.splitext(filename)[1]\n",
    "        \n",
    "        # 构造新的文件名（包含扩展名）\n",
    "        new_file_name = new_name + file_extension\n",
    "        \n",
    "        # 构造新的文件路径\n",
    "        new_file_path = os.path.join(folder_path, new_file_name)\n",
    "        \n",
    "        # 重命名文件\n",
    "        os.rename(file_path, new_file_path)\n",
    "        print(f\"文件 '{filename}' 已被重命名为 '{new_file_name}'\")\n"
   ],
   "outputs": [],
   "execution_count": null
  }
 ],
 "metadata": {
  "kernelspec": {
   "display_name": "huggingface",
   "language": "python",
   "name": "python3"
  },
  "language_info": {
   "codemirror_mode": {
    "name": "ipython",
    "version": 3
   },
   "file_extension": ".py",
   "mimetype": "text/x-python",
   "name": "python",
   "nbconvert_exporter": "python",
   "pygments_lexer": "ipython3",
   "version": "3.12.4"
  }
 },
 "nbformat": 4,
 "nbformat_minor": 2
}
